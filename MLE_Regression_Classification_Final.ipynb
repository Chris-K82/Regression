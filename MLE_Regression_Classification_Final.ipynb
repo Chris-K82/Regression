{
 "cells": [
  {
   "cell_type": "markdown",
   "metadata": {},
   "source": [
    "\n",
    "***Question 0***\n",
    "\n",
    "What is a likelihood function? Also add a formula and explain what it means.\n",
    "\n",
    "Likelihood function often simply called Likelihood. Likelihood is the probability that an event that has already occurred would yield specific outcome. Probability refers to the occurrence of the future events, while likelihood refers to as events with known outcomes. \n",
    "\n",
    "\n",
    "Formula:\n",
    "Let ‘X’ be a discrete random variable with probability function mass ‘p’ depending on a parameter ‘θ’. Then the function:\n",
    "\n",
    "$\\mathcal{L}(\\theta | x)=p_{\\theta}(x)=P_{\\theta}(X=x)$\n",
    "\n",
    "\n",
    "Considered as a function of ‘θ’ is the likelihood function, given the outcome ‘x’ of the random variable ‘X’.  \n"
   ]
  },
  {
   "cell_type": "markdown",
   "metadata": {},
   "source": [
    "***Question 1***\n",
    "\n",
    "What is Maximum Likelihood estimation (MLE)? Can you give an example?\n",
    "\n",
    "Maximum likelihood estimation (MLE) is a method of estimating the parameters of a distribution by maximizing a likelihood function, so that under the assumed statistical model the observed data is most probable. \n",
    "The point in the parameter space that maximizes the likelihood function is called the maximum likelihood estimate.\n",
    "\n",
    "\n",
    "Example\n",
    "Suppose that there is a bag containing 3 balls. Each ball is either red or blue, but we have no information in addition to this. Thus, the number of blue balls ‘θ’, might be 0, 1, 2, or 3. I am allowed to choose 4 balls at random from the bag with replacement. We define the random X1, X2, X3 and X4 as follows\n",
    "\n",
    "Xi = {  1      if the ith chosen ball is blue; and\n",
    "\n",
    "       0       if the ith chosen ball is red   }\n",
    "\n",
    "Note that Xi’s are i.i.d. which means independent and identically distributed and Xi ~ Bernoulli (θ/3). After doing the experiment, it is observed that  Xi’s:\n",
    "\n",
    "\n",
    "x1= 1, x= 0, x3 = 1, x4 = 1. \n",
    "Thus, I observe 3 blue balls and 1 red ball.\n",
    "1.\tFor each possible value of ‘θ’ find the probability of the observed sample, (x1,x2,x3,x4) =  (1,0,1,1).\n",
    "2.\tFor which value of ‘θ’ is the probability of the observed sample is the largest?\n",
    "\n",
    "\n",
    "Since Xi ~ Bernoulli (θ/3), we have\n",
    "\n",
    "\n",
    "PXi(x) =   {   θ/3                   for x=1\n",
    "\n",
    "           1 – θ/3                   for x = 0}\n",
    "\n",
    "Since Xi’s are independent, the joint PMF of X1, X2, X3 and X4 can be written as\n",
    "\n",
    "Px1,x2,x3,x4(x1,x2,x3,x4)  = (θ/3). (1- θ/3) (θ/3). (θ/3)\n",
    "                                                = (θ/3)^3. (1- θ/3)\n",
    "\n",
    "Note that PMF depends on θ, so we write as Px1,x2,x3,x4(x1,x2,x3,x4; θ ).\n",
    "We obtain the values for the probability (1,0,1,1)\n",
    "\n",
    "\n",
    "\n",
    "\n",
    "\n",
    "The probability of observed sample for θ =0 and θ =3 is zero. This makes sense because our sample included both red and blue balls. From the table we see that the probability of the observed data is maximized for θ =2. This means that the observed data is most likely to occur for θ =2. For this reason, we may choose θ ^=2 as our estimate of θ. This is called the maximum likelihood estimate (MLE) of θ.\n"
   ]
  },
  {
   "cell_type": "markdown",
   "metadata": {},
   "source": [
    "***Question 2***\n",
    "\n",
    "\n",
    "How is linear regression related to Pytorch and gradient descent?\n",
    " \n",
    "Linear regression using Pytorch\n",
    "Linear regression is a statistical method to study the relationship between two continuous variables.  Linear regression can be used using Pytorch. \n",
    "\n",
    "\n",
    "\n",
    "The basic steps involves importing necessary libraries \n",
    "\n",
    "The basic steps involves importing necessary libraries \n",
    "•\tImporting necessary libraries\n",
    "\n",
    "•\tGiving data, e.g. dependent and independent variables\n",
    "\n",
    "•\tDefining the model\n",
    "\n",
    "   1-Initializing model\n",
    "   \n",
    "   2-Declaring the forward pass\n",
    "   \n",
    "• Select optimizer and loss criteria\n",
    "\n",
    "   1-We can use loss function as MSE\n",
    "   \n",
    "   2-Also,  we can use Stochastic gradient descent as optimizer\n"
   ]
  },
  {
   "cell_type": "markdown",
   "metadata": {},
   "source": [
    "***Question 3***\n",
    "\n",
    "Write out MSE (Mean square error) loss for linear regression. \n",
    "\n",
    "Mean Square Error is the most commonly used regression loss function. MSE is the sum of squared distances between our target variable and predicted values.\n",
    "\n",
    "$M S E=\\frac{\\sum_{i=1}^{n}\\left(y_{i}-y_{i}^{p}\\right)^{2}}{n}$\n",
    "\n",
    "\n",
    "Below is a plot of an MSE function where the true target value is 100, and the predicted values range between -10,000 to 10,000. The MSE loss (Y-axis) reaches its minimum value at prediction (X-axis) = 100. The range is 0 to ∞.\n",
    "\n",
    "![Alt text](https://miro.medium.com/max/576/1*EqTaoCB1NmJnsRYEezSACA.png)\n",
    "\n",
    "Could we also use this loss for classification?\n",
    "Yes, from the basics of statistical machine learning, the loss function is the negative-log-likelihood of the model. To find best parameters, we need to minimize this NLL loss. The MSE is the NLL for linear regression model (with Gaussian likelihood). \n",
    "\n"
   ]
  },
  {
   "cell_type": "markdown",
   "metadata": {},
   "source": [
    "***Question 4*** Relation between MLE and MSE for linear regression\n",
    "\n",
    "<img src='https://i2.wp.com/www.jessicayung.com/wp-content/uploads/2018/06/mse-ml.png?w=1452' width= 30% height=30%/>\n",
    "\n",
    "It shows that minimising the mean-squared error (MSE) is not just something vaguely intuitive, but emerges from maximising the likelihood on a linear Gaussian model.\n",
    "the data is described by the linear model \n",
    "$\\mathbf{y}=\\mathbf{w} \\mathbf{X}+\\epsilon,$ where $\\epsilon_{i} \\sim N\\left(\\epsilon_{i} ; 0, \\sigma_{e}^{2}\\right)$\n",
    "\n",
    "\n",
    "Assume \\sigma^2_e is known and the datapoints are i.i.d. (independent and identically distributed).\n",
    "\n",
    "Note: the notation $N\\left(\\epsilon_{i} ; 0, \\sigma_{e}^{2}\\right)$ means that we are describing the distribution of $\\epsilon_{i}$, and that it is distributed as \n",
    "$N\\left(0,\\sigma_{e}^{2}\\right)$\n",
    "\n",
    "<img src='https://i2.wp.com/www.jessicayung.com/wp-content/uploads/2018/06/linear-mse.png?resize=1024%2C688' width=30% height=30%/>\n",
    "\n",
    "**Proof:**\n",
    "The log likelihood of our model is\n",
    "$\\log p(\\mathbf{y} | \\mathbf{X}, \\mathbf{w})=\\sum_{i=1}^{N} \\log p\\left(y_{i} | \\mathbf{x}_{\\mathbf{i}}, \\theta\\right)$\n",
    "\n",
    "But since the noise $\\epsilon$ is Gaussian (i.e. normally distributed), the likelihood is just\n",
    "\n",
    "$\\begin{aligned} \\log p(\\mathbf{y} | \\mathbf{X}, \\mathbf{w}) &=\\sum_{i=1}^{N} \\log N\\left(y_{i} ; \\mathbf{x}_{\\mathbf{i}} \\mathbf{w}, \\sigma^{2}\\right) \\\\ &=\\sum_{i=1}^{N} \\log \\frac{1}{\\sqrt{2 \\pi \\sigma_{e}^{2}}} \\exp \\left(-\\frac{\\left(y_{i}-\\mathbf{x}_{\\mathbf{i}} \\mathbf{w}\\right)^{2}}{2 \\sigma_{e}^{2}}\\right)^{2} \\\\ &=-\\frac{N}{2} \\log 2 \\pi \\sigma_{e}^{2}-\\sum_{i=1}^{N} \\frac{\\left(y_{i}-\\mathbf{x}_{\\mathbf{i}} \\mathbf{w}\\right)^{2}}{2 \\sigma_{e}^{2}} \\end{aligned}$\n",
    "\n",
    "where N is the number of datapoints.\n",
    "\n",
    "$\\begin{aligned} \\mathbf{w}_{M L E} &=\\arg \\max _{\\mathbf{w}}-\\sum_{i=1}^{N}\\left(y_{i}-\\mathbf{x}_{\\mathbf{i}} \\mathbf{w}\\right)^{2} \\\\ &=\\arg \\min _{\\mathbf{w}} \\frac{1}{N} \\sum_{i=1}^{N}\\left(y_{i}-\\mathbf{x}_{\\mathbf{i}} \\mathbf{w}\\right)^{2} \\\\ &=\\arg \\min _{\\mathbf{w}} \\mathrm{MSE}_{\\text { train }} \\end{aligned}$\n",
    "\n",
    "\n",
    "That is, the parameters \\mathbf{w} chosen to maximise the likelihood are exactly those chosen to minimise the mean-squared error.\n",
    "\n",
    "Bonus question: a: Sigmoid function symmetric proof\n",
    "\n",
    "The derivative of the sigmoid function\n",
    "The derivative itself has a very convenient and beautiful form:\n",
    "    $\\frac{d \\sigma(x)}{d x}=\\sigma(x) \\cdot(1-\\sigma(x))$\n",
    "    \n",
    " This means that it's very easy to compute the derivative of the sigmoid function if you've already calculated the sigmoid function itself. E.g. when backpropagating errors in a neural network through a layer of nodes with a sigmoid activation function,σ(x)has already been computed during the forward pass.\n",
    "\n",
    "<img src='https://hvidberrrg.github.io/deep_learning/activation_functions/assets/sigmoid_derivative.png' width= 30% height= 30%/>\n",
    "\n",
    "we'll first derive:\n",
    "$\\frac{d \\sigma(x)}{d x}=\\sigma(x) \\cdot \\sigma(-x)$ (7)\n",
    "\n",
    "Then equation \n",
    " follows directly from the above fact combined with equation \n",
    "which tells us that σ(−x)=1−σ(x)). So here goes:\n",
    "\n",
    "$\\begin{aligned} \\frac{d \\sigma(x)}{d x} &=\\frac{d}{d x}\\left(\\frac{1}{1+e^{-x}}\\right) \\\\ &=\\frac{d}{d x}\\left(1+e^{-x}\\right)^{-1} \\\\ &=-\\left(1+e^{-x}\\right)^{-2} \\cdot\\left(-e^{-x}\\right) \\\\ &=\\frac{e^{-x}}{\\left(1+e^{-x}\\right)^{2}} \\\\ &=\\frac{1}{1+e^{-x}} \\cdot \\frac{e^{-x}}{1+e^{-x}} \\\\ &=\\sigma(x) \\cdot \\sigma(-x) \\end{aligned}$\n",
    "\n",
    "Where the last equality follows directly from equation \n",
    "(1)(please refer to the margin note for (1), for the alternate form of the sigmoid function).\n",
    "As should be evident from the graph of the derivative of the sigmoid function it's symmetric across the vertical axis, that is:\n",
    "\n",
    "$\\frac{d \\sigma(x)}{d x}=\\frac{d \\sigma(-x)}{d x}$ (8)\n",
    "\n",
    "This can also easily be seen from equation (7), as shown by the following:\n",
    "    \n",
    "$\\frac{d \\sigma(x)}{d x}=\\sigma(x) \\cdot \\sigma(-x)=\\sigma(-x) \\cdot \\sigma(-(-x))=\\frac{d \\sigma(-x)}{d x}$"
   ]
  },
  {
   "cell_type": "markdown",
   "metadata": {},
   "source": [
    "***Question 5***\n",
    "\n",
    "* In linear regression the trick that we do is, we take the model that we need to find, as the mean of the above stated normal distribution. Because we know how to find MLE values of a mean in a normal distribution.\n",
    "\n",
    "\n",
    "Maximum Likelihood Estimation\n",
    "\n",
    "* Maximum likelihood estimation (MLE) is a technique used for estimating the parameters of a given distribution, using some observed data. For example, if a population is known to follow a “normal distribution” but the “mean” and “variance” are unknown, MLE can be used to estimate them using a limited sample of the population\n",
    "\n",
    "* likelihood expression is in the form of: L(parameters | data ). Meaning of this is, “likelihood of having these parameters, once the data are these”.\n",
    "* We talk about probability when we know the model parameters and when predicting a value from that model. So there we talk about how probable is the resultant value to be come out from that model. So probability is: P(data | parameters)\n",
    "\n",
    "So let’s define our linear model that needed to be estimated as ŷ.\n",
    "\n",
    "$ \\hat{y}=w_{0}+w_{1} x_{1}+\\ldots+w_{d} x_{d} $\n",
    "Mean squared error (MSE)\n",
    "\n",
    "To calculate the MSE, we take the difference between model’s predictions and the ground truth, square it, and average it out across the whole dataset.\n",
    "\n",
    "** Here the equation is **y=Mx+B**, where M is the slope of the line and B is y-intercept of the line.\n",
    " We want to find M (slope ) and B (y-intercept) that minimizes the squared error!\n",
    " equation that will give us the mean squared error for all our points.**\n",
    "\n",
    "$\\mathbf{M S E}=\\frac{1}{n} \\sum_{i=1}^{n}\\left(y_{i}-\\tilde{y}_{i}\\right)^{2}$\n",
    "\n",
    "Let’s take each point on the graph, and we’ll do our calculation (y-y’)².\n",
    "But what is y’, and how do we calculate it? We do not have it as part of the data.in order to calculate y’, we need to use our line equation, y=mx+b, and put the x in the equation.\n",
    "\n",
    "$M S E=\\left(y_{1}-\\left(m x_{1}+b\\right)\\right)^{2}+\\left(y_{2}-\\left(m x_{2}+b\\right)\\right)^{2}+\\ldots+\\left(y_{n}-\\left(m x_{n}+b\\right)\\right)^{2}$\n",
    "\n",
    "Equations for slope and y-intercept\n",
    "$m=\\frac{\\overline{x y}-\\overline{x} \\overline{y}}{\\overline{x^{2}}-(\\overline{x})^{2}} \\quad b=\\overline{y}-m \\overline{x}$\n",
    "\n",
    "Let’s take 3 points, (1,2), (2,1), (4,3)\n",
    "Let’s find M and B for the equation y=mx+b.\n",
    "\n",
    "$\\overline{x}=\\frac{1+2+4}{3}=\\frac{7}{3}$\n",
    "\n",
    "$\\overline{y}=\\frac{2+1+3}{3}=2$\n",
    "\n",
    "$\\overline{x y}=\\frac{1 \\cdot 2+2 \\cdot 1+4 \\cdot 3}{3}=\\frac{16}{3}$\n",
    "\n",
    "$\\overline{x^{2}}=\\frac{1^{2}+2^{2}+4^{2}}{3}=\\frac{21}{3}=7$\n",
    "\n",
    "$m=\\frac{\\frac{7}{3} \\cdot 2-\\frac{16}{3}}{\\left(\\frac{7}{3}\\right)^{2}-7}=\\frac{\\frac{14}{3}-\\frac{16}{3}}{\\frac{49}{9}-7}=\\frac{-\\frac{2}{3}}{-\\frac{14}{9}}=\\frac{3}{7}$\n",
    "\n",
    "$b=2-\\frac{3}{7} \\cdot \\frac{7}{3}=2-1=1$\n",
    "\n",
    "$y=\\frac{3}{7} x+1$\n",
    "\n",
    "\n",
    "the line passes through the lines in such a way that it minimizes the squared distances.\n",
    "\n",
    "<img src='https://cdn-media-1.freecodecamp.org/images/DlKy-Eekc0SdHpcOeQPGJobo7jYLfTh0pI8Q' width='30%' height='30%'/>\n",
    "\n",
    "Drawbacks of MSE \n",
    "\n",
    "Disadvantage: \n",
    "* If our model makes a single very bad prediction, the squaring part of the function magnifies the error. \n",
    "* Yet in many practical cases we don’t care much about these outliers and are aiming for more of a well-rounded model that performs good enough on the majority.\n",
    "* the MSE as the cost function for logistic regression is because you don't want your cost function to be non-convex in nature. If the cost function is not convex then its difficult for the function to optimally converge."
   ]
  },
  {
   "cell_type": "markdown",
   "metadata": {},
   "source": [
    "***Question 6*** Can gradient descent be used to find the parameters for linear regression? \n",
    "\n",
    "gradient descent can be applied to solve a linear regression problem. While the model in our example was a line, the concept of minimizing a cost function to tune parameters also applies to regression problems that use higher order polynomials and other problems found around the machine learning world.\n",
    "We used gradient descent to iteratively estimate m and b, however we could have also solved for them directly.\n",
    "\n",
    "some snapshots of gradient descent running for 2000 iterations for our example problem. We start out at point m = -1 b = 0. Each iteration m and b are updated to values that yield slightly lower error than the previous iteration. The left plot displays the current location of the gradient descent search (blue dot) and the path taken to get there (black line). The right plot displays the corresponding line for the current search location. Eventually we ended up with a pretty accurate fit."
   ]
  },
  {
   "cell_type": "markdown",
   "metadata": {},
   "source": [
    "<img src=\"https://spin.atomicobject.com/wp-content/uploads/gradient_descent_search1.png\" alt=\"drawing\" width=\"50%\" height=\"50%\"/>"
   ]
  },
  {
   "cell_type": "markdown",
   "metadata": {},
   "source": [
    "the concept of minimizing a cost function to tune parameters also applies to regression problems that use higher order polynomials\n",
    "\n",
    "Linear classification\n",
    " * A classification algorithm (Classifier) that makes its classification based on a linear\n",
    "    predictor function combining a set of weights with the feature vector\n",
    "    $y=f(\\vec{w} \\cdot \\vec{x})=f\\left(\\sum_{j} w_{j} x_{j}\\right)$\n",
    " * Decision boundaries is flat\n",
    " * Line, plane, ….\n",
    " * May involve non-linear operations\n",
    "\n",
    "**Explicitly creating the discriminant function (Discriminant function)** \n",
    "   * Perceptron\n",
    "   * Support vector machine\n",
    "   \n",
    "**Probabilistic approach**\n",
    "   * Model the posterior distribution\n",
    "   * Algorithms\n",
    "       * Logistic regression"
   ]
  },
  {
   "cell_type": "markdown",
   "metadata": {},
   "source": [
    "<img src='https://i2.wp.com/www.jessicayung.com/wp-content/uploads/2018/06/mse-ml.png?w=1452' width= 30% height=30%/>"
   ]
  },
  {
   "cell_type": "markdown",
   "metadata": {},
   "source": [
    "7. Given a matrix equation, the normal equation is that which minimizes the sum of the square differences between the left and right sides: it is called the normal equation because it is normal to the range of the original linear equation. https://stats.stackexchange.com/questions/305720/why-do-we-call-the-equations-of-least-square-estimation-in-linear-regression-the \n",
    "Equations of least square estimation in linear regression are known as \"normal equations\". This is because of what the output values of the original inputs represent. In essence, the outputs from the least squares equations reduces the range from its entirety to only the differences. We can think of this in terms of geometry where the square root of the sum of two sides of which each were squared gives the length of the hypotenuse in a right triangle. This means that we are finding the perpendicular difference between outputs vs expected outputs.\n",
    "8. Feature scaling is not absolutely needed for linear regression. However, without it, it is possible that some inintended consequences may occur such as non-convergence and extremely inefficient processes.\n",
    "9. Given that logistic regression is used for classification of dependent variables, maximizing the likelihood that the hypothesis will accurately classify previously unseen inputs means restricting the outputs from infintely many possibilities to a finite set. With that in mind, what follows is the mathematical progression from initial logistic regression to the max likelihood formula."
   ]
  },
  {
   "cell_type": "code",
   "execution_count": 7,
   "metadata": {},
   "outputs": [
    {
     "data": {
      "text/latex": [
       "\\begin{array}{c}{P\\left(Y_{i}=\\operatorname{cat} | x_{i} ; \\theta\\right)=\\theta^{T} \\overline{x}} \\\\ {\\theta^{T}=\\left[\\theta_{0}, \\theta_{1}, \\ldots, \\theta_{n}\\right] \\overline{x}=\\left[1, x_{0}, x_{1}, \\ldots, x_{n}\\right]} \\\\ {h(x)=\\sigma\\left(\\theta^{T} \\overline{x}\\right)=\\frac{1}{1+e^{-\\theta^{T} x}}} \\\\ {P\\left(Y_{i}=\\operatorname{cat} | x_{i} ; \\theta\\right)=\\frac{1}{1-e^{-\\theta^{T} x}}} \\\\ {P\\left(Y_{i}=\\operatorname{dog} | x_{i} ; \\theta\\right)=1-h(x)}\\end{array}\n",
       "\\begin{array}{c}{P\\left(Y_{i} | x_{i} ; \\theta\\right)=h\\left(x_{i}\\right)^{Y_{i}}\\left(1-h\\left(x_{i}\\right)\\right)^{1-Y_{i}}(\\text {Bernoulli Distribution})} \\\\ {L(\\theta)=P(Y | X ; \\theta)=\\prod_{i=1}^{m} h\\left(x_{i}\\right)^{Y_{i}} |(X, \\overline{Y})} \\\\ {\\ell(\\theta)=\\sum_{i=1}^{m} Y_{i} \\log \\left(\\sigma\\left(\\theta^{T} \\overline{x_{i}}\\right)\\right)+\\left(1-Y_{i}\\right)\\left(1-\\sigma\\left(\\theta^{T} x_{i}\\right)\\right)}\\end{array}\n",
       "\\begin{array}{c}{\\frac{\\partial \\ell(\\theta)}{\\partial \\theta}=\\frac{y}{\\sigma\\left(\\theta^{T} \\overline{x}\\right)} \\frac{\\partial \\sigma\\left(\\theta^{T} \\overline{x}\\right)}{\\partial \\theta}+\\frac{(1-y)}{1-\\sigma\\left(\\theta^{T} \\overline{x}\\right)} \\frac{-\\partial \\sigma\\left(\\theta^{T} \\overline{x}\\right)}{\\partial \\theta}} \\\\ {\\frac{\\partial \\ell(\\theta)}{\\partial \\theta}=(y-h(x)) \\overline{x}} \\\\ {\\operatorname{Max} \\text {Log Likelihood}=\\frac{\\partial \\ell(\\theta)}{\\partial \\theta}=\\left(y-\\sigma\\left(\\theta^{T} \\overline{x}\\right)\\right) \\overline{x}}\\end{array}\n"
      ],
      "text/plain": [
       "<IPython.core.display.Latex object>"
      ]
     },
     "metadata": {},
     "output_type": "display_data"
    }
   ],
   "source": [
    "%%latex\n",
    "\\begin{array}{c}{P\\left(Y_{i}=\\operatorname{cat} | x_{i} ; \\theta\\right)=\\theta^{T} \\overline{x}} \\\\ {\\theta^{T}=\\left[\\theta_{0}, \\theta_{1}, \\ldots, \\theta_{n}\\right] \\overline{x}=\\left[1, x_{0}, x_{1}, \\ldots, x_{n}\\right]} \\\\ {h(x)=\\sigma\\left(\\theta^{T} \\overline{x}\\right)=\\frac{1}{1+e^{-\\theta^{T} x}}} \\\\ {P\\left(Y_{i}=\\operatorname{cat} | x_{i} ; \\theta\\right)=\\frac{1}{1-e^{-\\theta^{T} x}}} \\\\ {P\\left(Y_{i}=\\operatorname{dog} | x_{i} ; \\theta\\right)=1-h(x)}\\end{array}\n",
    "\\begin{array}{c}{P\\left(Y_{i} | x_{i} ; \\theta\\right)=h\\left(x_{i}\\right)^{Y_{i}}\\left(1-h\\left(x_{i}\\right)\\right)^{1-Y_{i}}(\\text {Bernoulli Distribution})} \\\\ {L(\\theta)=P(Y | X ; \\theta)=\\prod_{i=1}^{m} h\\left(x_{i}\\right)^{Y_{i}} |(X, \\overline{Y})} \\\\ {\\ell(\\theta)=\\sum_{i=1}^{m} Y_{i} \\log \\left(\\sigma\\left(\\theta^{T} \\overline{x_{i}}\\right)\\right)+\\left(1-Y_{i}\\right)\\left(1-\\sigma\\left(\\theta^{T} x_{i}\\right)\\right)}\\end{array}\n",
    "\\begin{array}{c}{\\frac{\\partial \\ell(\\theta)}{\\partial \\theta}=\\frac{y}{\\sigma\\left(\\theta^{T} \\overline{x}\\right)} \\frac{\\partial \\sigma\\left(\\theta^{T} \\overline{x}\\right)}{\\partial \\theta}+\\frac{(1-y)}{1-\\sigma\\left(\\theta^{T} \\overline{x}\\right)} \\frac{-\\partial \\sigma\\left(\\theta^{T} \\overline{x}\\right)}{\\partial \\theta}} \\\\ {\\frac{\\partial \\ell(\\theta)}{\\partial \\theta}=(y-h(x)) \\overline{x}} \\\\ {\\operatorname{Max} \\text {Log Likelihood}=\\frac{\\partial \\ell(\\theta)}{\\partial \\theta}=\\left(y-\\sigma\\left(\\theta^{T} \\overline{x}\\right)\\right) \\overline{x}}\\end{array}\n"
   ]
  },
  {
   "cell_type": "markdown",
   "metadata": {},
   "source": [
    "9. Binary cross-entropy categorizes something as either True or False. Given that the outputs of the probability functions will be in the range (0, 1) with P > 0.5 == 1 and P < 0.5 == 0, one can see the correlation between the two concepts."
   ]
  },
  {
   "cell_type": "markdown",
   "metadata": {},
   "source": [
    "a. From an algebraic perspective, a function is symmetric if g(x) = -g(x) or if g(-x) = \n",
    "-g(-x). However, in the geometric sense, a function is symmetric if it can be rotated about a point on its graph and look the same as it did before the rotation. The sigmoid function has point symmetry about the point (0, 1/2). When rotated 180 degrees, it looks the same."
   ]
  },
  {
   "cell_type": "code",
   "execution_count": 19,
   "metadata": {},
   "outputs": [
    {
     "data": {
      "text/plain": [
       "[<matplotlib.lines.Line2D at 0x7f01b591b860>]"
      ]
     },
     "execution_count": 19,
     "metadata": {},
     "output_type": "execute_result"
    },
    {
     "data": {
      "image/png": "[encoded data removed]",
      "text/plain": [
       "<Figure size 432x288 with 1 Axes>"
      ]
     },
     "metadata": {
      "needs_background": "light"
     },
     "output_type": "display_data"
    }
   ],
   "source": [
    "#import section\n",
    "from matplotlib import pylab\n",
    "import pylab as plt\n",
    "import numpy as np\n",
    "\n",
    "#sigmoid = lambda x: 1 / (1 + np.exp(-x))\n",
    "def sigmoid(x):\n",
    "    return (1 / (1 + np.exp(-x)))\n",
    "\n",
    "# generate an Array with value ???\n",
    "# linespace generate an array from start and stop value\n",
    "# with requested number of elements. Example 10 elements or 100 elements.\n",
    "# \n",
    "x = plt.linspace(-10,10,10)\n",
    "y = plt.linspace(-10,10,100)\n",
    "\n",
    "# prepare the plot, associate the color r(ed) or b(lue) and the label \n",
    "plt.plot(x, sigmoid(x), 'r', label='linspace(-10,10,10)')\n",
    "plt.plot(y, sigmoid(y), 'b', label='linspace(-10,10,100)')\n",
    "\n",
    "# Draw the grid line in background.\n",
    "plt.grid()\n",
    "\n",
    "# Title & Subtitle\n",
    "plt.title('Sigmoid Function')\n",
    "plt.suptitle('Sigmoid')\n",
    "\n",
    "# place the legen boc in bottom right of the graph\n",
    "plt.legend(loc='lower left')\n",
    "\n",
    "# write the Sigmoid formula\n",
    "plt.text(4, 0.8, r'$\\sigma(x)=\\frac{1}{1+e^{-x}}$', fontsize=15)\n",
    "\n",
    "#resize the X and Y axes\n",
    "plt.gca().xaxis.set_major_locator(plt.MultipleLocator(1))\n",
    "plt.gca().yaxis.set_major_locator(plt.MultipleLocator(0.1))\n",
    " \n",
    "\n",
    "# plt.plot(x)\n",
    "plt.xlabel('X Axis')\n",
    "plt.ylabel('Y Axis')\n",
    "\n",
    "# prepare the plot, associate the color r(ed) or b(lue) and the label \n",
    "plt.plot(x, sigmoid(-1*x), 'r', label='linspace(-10,10,10)')\n",
    "plt.plot(y, sigmoid(-1*y), 'b', label='linspace(-10,10,100)')"
   ]
  },
  {
   "cell_type": "code",
   "execution_count": 21,
   "metadata": {},
   "outputs": [
    {
     "data": {
      "text/latex": [
       "\\begin{array}{c}{\\sigma=\\left(y=\\frac{1}{1+e^{-x}}\\right)} \\\\ {\\frac{d y}{d x}=[1-y(x)] y(x)} \\\\ {\\frac{e^{-x}}{\\left(1+e^{-x}\\right)^{2}}} \\\\ {\\int y d x=x+\\ln \\left(1+e^{-x}\\right)}\\end{array}\n",
       "\\begin{array}{c}{=\\ln \\left(1+e^{x}\\right)} \\\\ {y^{\\prime}=\\ln \\left(1+e^{x}\\right)} \\\\ {x=\\ln \\left(1+e^{y}\\right)} \\\\ {e^{x}-1=e^{y}} \\\\ {\\ln \\left(e^{x}-1\\right)=y^{\\prime}} \\\\ {y=x \\ln \\left(e^{x}-1\\right)-\\left(1+\\mathrm{e}^{x}\\right)(\\text {nverted Sigmoid})}\\end{array}\n"
      ],
      "text/plain": [
       "<IPython.core.display.Latex object>"
      ]
     },
     "metadata": {},
     "output_type": "display_data"
    }
   ],
   "source": [
    "%%latex\n",
    "\\begin{array}{c}{\\sigma=\\left(y=\\frac{1}{1+e^{-x}}\\right)} \\\\ {\\frac{d y}{d x}=[1-y(x)] y(x)} \\\\ {\\frac{e^{-x}}{\\left(1+e^{-x}\\right)^{2}}} \\\\ {\\int y d x=x+\\ln \\left(1+e^{-x}\\right)}\\end{array}\n",
    "\\begin{array}{c}{=\\ln \\left(1+e^{x}\\right)} \\\\ {y^{\\prime}=\\ln \\left(1+e^{x}\\right)} \\\\ {x=\\ln \\left(1+e^{y}\\right)} \\\\ {e^{x}-1=e^{y}} \\\\ {\\ln \\left(e^{x}-1\\right)=y^{\\prime}} \\\\ {y=x \\ln \\left(e^{x}-1\\right)-\\left(1+\\mathrm{e}^{x}\\right)(\\text {nverted Sigmoid})}\\end{array}"
   ]
  },
  {
   "cell_type": "code",
   "execution_count": 22,
   "metadata": {},
   "outputs": [
    {
     "name": "stdout",
     "output_type": "stream",
     "text": [
      "gradients of w1:\n",
      "\n",
      " [[-0.06157492 -0.10827408 -0.16603831 -0.29573038]\n",
      " [-0.12314984 -0.21654817 -0.33207663 -0.59146077]\n",
      " [-0.18472476 -0.32482225 -0.49811494 -0.88719115]]\n"
     ]
    }
   ],
   "source": [
    "inp_neuron = 3\n",
    "out_neuron = 1\n",
    "hidden_neuron = 4\n",
    "\n",
    "x = np.array([[1,2,3]])\n",
    "y = np.array([6])\n",
    "\n",
    "def sigmoid(x):\n",
    "    return 1/(1+np.exp(-x))\n",
    "\n",
    "# defining weight matrices\n",
    "w1 = np.random.rand(inp_neuron, hidden_neuron)\n",
    "w2 = np.random.rand(hidden_neuron, out_neuron)\n",
    "\n",
    "# calculating activations\n",
    "hid = sigmoid(np.matmul(x, w1))    \n",
    "out = np.matmul(hid, w2)           \n",
    "        \n",
    "# defining loss function    \n",
    "loss = ((y - out)**2)/2\n",
    "\n",
    "# calculating the gredients of loss w.r.t weights\n",
    "out_delta = (out - y)                         \n",
    "hid_error = np.matmul(out_delta, w2.T)\n",
    "hid_delta = hid_error*hid*(1-hid)                         \n",
    "grad_w2 = np.matmul(hid.T, out_delta)  \n",
    "grad_w1 = np.matmul(x.T, hid_delta) \n",
    "\n",
    "print(\"gradients of w1:\\n\\n\", grad_w1)"
   ]
  },
  {
   "cell_type": "markdown",
   "metadata": {},
   "source": [
    "https://medium.com/@shivajbd/how-to-validate-your-gradient-expression-for-a-neural-network-8284ede6272\n",
    "\n"
   ]
  }
 ],
 "metadata": {
  "kernelspec": {
   "display_name": "Python 3",
   "language": "python",
   "name": "python3"
  },
  "language_info": {
   "codemirror_mode": {
    "name": "ipython",
    "version": 3
   },
   "file_extension": ".py",
   "mimetype": "text/x-python",
   "name": "python",
   "nbconvert_exporter": "python",
   "pygments_lexer": "ipython3",
   "version": "3.7.3"
  },
  "toc": {
   "base_numbering": 1,
   "nav_menu": {},
   "number_sections": true,
   "sideBar": true,
   "skip_h1_title": false,
   "title_cell": "Table of Contents",
   "title_sidebar": "Contents",
   "toc_cell": false,
   "toc_position": {},
   "toc_section_display": true,
   "toc_window_display": false
  },
  "varInspector": {
   "cols": {
    "lenName": 16,
    "lenType": 16,
    "lenVar": 40
   },
   "kernels_config": {
    "python": {
     "delete_cmd_postfix": "",
     "delete_cmd_prefix": "del ",
     "library": "var_list.py",
     "varRefreshCmd": "print(var_dic_list())"
    },
    "r": {
     "delete_cmd_postfix": ") ",
     "delete_cmd_prefix": "rm(",
     "library": "var_list.r",
     "varRefreshCmd": "cat(var_dic_list()) "
    }
   },
   "types_to_exclude": [
    "module",
    "function",
    "builtin_function_or_method",
    "instance",
    "_Feature"
   ],
   "window_display": false
  }
 },
 "nbformat": 4,
 "nbformat_minor": 2
}
